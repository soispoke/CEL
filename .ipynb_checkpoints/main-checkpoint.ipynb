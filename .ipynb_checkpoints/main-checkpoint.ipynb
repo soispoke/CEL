{
 "cells": [
  {
   "cell_type": "code",
   "execution_count": null,
   "metadata": {},
   "outputs": [
    {
     "name": "stdout",
     "output_type": "stream",
     "text": [
      "Results available at https://dune.com/queries/1302730?Blockchain=bnb&Address=0x0d8ce2a99bb6e3b7db580ed848240e4a0f9ae153&Start+Date=2022-09-24+00%3A00%3A00&End+Date=2022-10-01+00%3A00%3A00 https://dune.com/queries/1304311?Blockchain=bnb&Address=0x0d8ce2a99bb6e3b7db580ed848240e4a0f9ae153&Start+Date=2022-09-24+00%3A00%3A00&End+Date=2022-10-01+00%3A00%3A00\n"
     ]
    },
    {
     "name": "stderr",
     "output_type": "stream",
     "text": [
      "2022-10-01 15:26:42,131 INFO dune_client.client waiting for query execution 01GE9Z2D53750AF7GHVZTM04XV to complete: current state ExecutionState.EXECUTING\n",
      "2022-10-01 15:26:48,358 INFO dune_client.client waiting for query execution 01GE9Z2K8CBEPXAXEYV8W49Q0S to complete: current state ExecutionState.EXECUTING\n"
     ]
    }
   ],
   "source": [
    "import dotenv\n",
    "import os\n",
    "import json\n",
    "\n",
    "from dune_client.types import QueryParameter\n",
    "from dune_client.client import DuneClient\n",
    "from dune_client.query import Query\n",
    "\n",
    "blockchain = \"bnb\"\n",
    "address = \"0x0d8ce2a99bb6e3b7db580ed848240e4a0f9ae153\"\n",
    "start_date = \"2022-09-24 00:00:00\"\n",
    "end_date = \"2022-10-01 00:00:00\"\n",
    "\n",
    "query_nodes = Query(\n",
    "    name=\"Query Nodes\",\n",
    "    query_id=1302730,\n",
    "    params=[\n",
    "            QueryParameter.enum_type(name=\"Blockchain\", value=blockchain),\n",
    "            QueryParameter.text_type(name=\"Address\", value=address),\n",
    "            QueryParameter.date_type(name=\"Start Date\", value=start_date),\n",
    "            QueryParameter.date_type(name=\"End Date\", value=end_date)\n",
    "    ]\n",
    ")\n",
    "\n",
    "query_links = Query(\n",
    "    name=\"Query Links\",\n",
    "    query_id=1304311,\n",
    "    params=[\n",
    "            QueryParameter.enum_type(name=\"Blockchain\", value=blockchain),\n",
    "            QueryParameter.text_type(name=\"Address\", value=address),\n",
    "            QueryParameter.date_type(name=\"Start Date\", value=start_date),\n",
    "            QueryParameter.date_type(name=\"End Date\", value=end_date)\n",
    "    ]\n",
    ")\n",
    "\n",
    "print(\"Results available at\", query_nodes.url(), query_links.url())\n",
    "\n",
    "dotenv.load_dotenv()\n",
    "dune = DuneClient(os.environ[\"DUNE_API_KEY\"])\n",
    "results_nodes = dune.parse(dune.refresh(query_nodes),'nodes')\n",
    "results_links = dune.parse(dune.refresh(query_links),'links')\n",
    "parsed = results_nodes.copy()\n",
    "parsed.update(results_links)\n",
    "dune.save(parsed)"
   ]
  },
  {
   "cell_type": "code",
   "execution_count": null,
   "metadata": {},
   "outputs": [],
   "source": [
    "raw"
   ]
  }
 ],
 "metadata": {
  "kernelspec": {
   "display_name": "Python 3 (ipykernel)",
   "language": "python",
   "name": "python3"
  },
  "language_info": {
   "codemirror_mode": {
    "name": "ipython",
    "version": 3
   },
   "file_extension": ".py",
   "mimetype": "text/x-python",
   "name": "python",
   "nbconvert_exporter": "python",
   "pygments_lexer": "ipython3",
   "version": "3.8.12"
  },
  "vscode": {
   "interpreter": {
    "hash": "b5d77bacb19008162c207be4e4a6747a498bc9daca7dfb6bba06949f611bd912"
   }
  }
 },
 "nbformat": 4,
 "nbformat_minor": 2
}
