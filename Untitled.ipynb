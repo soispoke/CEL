{
 "cells": [
  {
   "cell_type": "code",
   "execution_count": 12,
   "id": "635cbfe5",
   "metadata": {
    "scrolled": true
   },
   "outputs": [
    {
     "name": "stdout",
     "output_type": "stream",
     "text": [
      "Results available at https://dune.com/queries/1302730?Blockchain=bnb&Address=0x0d8ce2a99bb6e3b7db580ed848240e4a0f9ae153&Start+Date=2021-06-01+00%3A00%3A00&End+Date=2021-06-25+21%3A08%3A00 https://dune.com/queries/1304311?Blockchain=bnb&Address=0x0d8ce2a99bb6e3b7db580ed848240e4a0f9ae153&Start+Date=2021-06-01+00%3A00%3A00&End+Date=2021-06-25+21%3A08%3A00\n"
     ]
    },
    {
     "name": "stderr",
     "output_type": "stream",
     "text": [
      "2023-01-31 09:01:18,144 INFO dune_client.base_client waiting for query execution 01GR3D7XHW9W0C4QFGMB4GQP13 to complete: ExecutionState.EXECUTING\n",
      "2023-01-31 09:01:23,299 INFO dune_client.base_client waiting for query execution 01GR3D7XHW9W0C4QFGMB4GQP13 to complete: ExecutionState.EXECUTING\n",
      "2023-01-31 09:01:28,449 INFO dune_client.base_client waiting for query execution 01GR3D7XHW9W0C4QFGMB4GQP13 to complete: ExecutionState.EXECUTING\n",
      "2023-01-31 09:01:33,585 INFO dune_client.base_client waiting for query execution 01GR3D7XHW9W0C4QFGMB4GQP13 to complete: ExecutionState.EXECUTING\n",
      "2023-01-31 09:01:38,715 INFO dune_client.base_client waiting for query execution 01GR3D7XHW9W0C4QFGMB4GQP13 to complete: ExecutionState.EXECUTING\n",
      "2023-01-31 09:01:43,858 INFO dune_client.base_client waiting for query execution 01GR3D7XHW9W0C4QFGMB4GQP13 to complete: ExecutionState.EXECUTING\n",
      "2023-01-31 09:01:48,986 INFO dune_client.base_client waiting for query execution 01GR3D7XHW9W0C4QFGMB4GQP13 to complete: ExecutionState.EXECUTING\n",
      "2023-01-31 09:01:54,108 INFO dune_client.base_client waiting for query execution 01GR3D7XHW9W0C4QFGMB4GQP13 to complete: ExecutionState.EXECUTING\n",
      "2023-01-31 09:01:59,244 INFO dune_client.base_client waiting for query execution 01GR3D7XHW9W0C4QFGMB4GQP13 to complete: ExecutionState.EXECUTING\n",
      "2023-01-31 09:02:04,399 INFO dune_client.base_client waiting for query execution 01GR3D7XHW9W0C4QFGMB4GQP13 to complete: ExecutionState.EXECUTING\n",
      "2023-01-31 09:02:09,546 INFO dune_client.base_client waiting for query execution 01GR3D7XHW9W0C4QFGMB4GQP13 to complete: ExecutionState.EXECUTING\n",
      "2023-01-31 09:02:14,685 INFO dune_client.base_client waiting for query execution 01GR3D7XHW9W0C4QFGMB4GQP13 to complete: ExecutionState.EXECUTING\n",
      "2023-01-31 09:02:19,827 INFO dune_client.base_client waiting for query execution 01GR3D7XHW9W0C4QFGMB4GQP13 to complete: ExecutionState.EXECUTING\n",
      "2023-01-31 09:02:24,993 INFO dune_client.base_client waiting for query execution 01GR3D7XHW9W0C4QFGMB4GQP13 to complete: ExecutionState.EXECUTING\n",
      "2023-01-31 09:02:30,121 INFO dune_client.base_client waiting for query execution 01GR3D7XHW9W0C4QFGMB4GQP13 to complete: ExecutionState.EXECUTING\n",
      "2023-01-31 09:02:35,372 INFO dune_client.base_client waiting for query execution 01GR3D7XHW9W0C4QFGMB4GQP13 to complete: ExecutionState.EXECUTING\n",
      "2023-01-31 09:02:40,497 INFO dune_client.base_client waiting for query execution 01GR3D7XHW9W0C4QFGMB4GQP13 to complete: ExecutionState.EXECUTING\n",
      "2023-01-31 09:02:45,633 INFO dune_client.base_client waiting for query execution 01GR3D7XHW9W0C4QFGMB4GQP13 to complete: ExecutionState.EXECUTING\n",
      "2023-01-31 09:02:50,781 INFO dune_client.base_client waiting for query execution 01GR3D7XHW9W0C4QFGMB4GQP13 to complete: ExecutionState.EXECUTING\n",
      "2023-01-31 09:02:55,916 INFO dune_client.base_client waiting for query execution 01GR3D7XHW9W0C4QFGMB4GQP13 to complete: ExecutionState.EXECUTING\n",
      "2023-01-31 09:03:01,052 INFO dune_client.base_client waiting for query execution 01GR3D7XHW9W0C4QFGMB4GQP13 to complete: ExecutionState.EXECUTING\n",
      "2023-01-31 09:03:06,192 INFO dune_client.base_client waiting for query execution 01GR3D7XHW9W0C4QFGMB4GQP13 to complete: ExecutionState.EXECUTING\n",
      "2023-01-31 09:03:11,853 INFO dune_client.base_client waiting for query execution 01GR3DKW79EY7W161N4GKPTD3G to complete: ExecutionState.EXECUTING\n",
      "2023-01-31 09:03:17,043 INFO dune_client.base_client waiting for query execution 01GR3DKW79EY7W161N4GKPTD3G to complete: ExecutionState.EXECUTING\n",
      "2023-01-31 09:03:22,167 INFO dune_client.base_client waiting for query execution 01GR3DKW79EY7W161N4GKPTD3G to complete: ExecutionState.EXECUTING\n"
     ]
    },
    {
     "ename": "ZeroDivisionError",
     "evalue": "division by zero",
     "output_type": "error",
     "traceback": [
      "\u001b[0;31m---------------------------------------------------------------------------\u001b[0m",
      "\u001b[0;31mZeroDivisionError\u001b[0m                         Traceback (most recent call last)",
      "\u001b[0;32m/var/folders/gc/mxy66k3s48lfzy9kzt5xh8t80000gn/T/ipykernel_8795/1605902294.py\u001b[0m in \u001b[0;36m<module>\u001b[0;34m\u001b[0m\n\u001b[1;32m     40\u001b[0m \u001b[0mresults_nodes\u001b[0m \u001b[0;34m=\u001b[0m \u001b[0;34m{\u001b[0m\u001b[0;34m\"nodes\"\u001b[0m\u001b[0;34m:\u001b[0m \u001b[0mdune\u001b[0m\u001b[0;34m.\u001b[0m\u001b[0mrefresh\u001b[0m\u001b[0;34m(\u001b[0m\u001b[0mquery_nodes\u001b[0m\u001b[0;34m)\u001b[0m\u001b[0;34m.\u001b[0m\u001b[0mresult\u001b[0m\u001b[0;34m.\u001b[0m\u001b[0mrows\u001b[0m\u001b[0;34m}\u001b[0m\u001b[0;34m\u001b[0m\u001b[0;34m\u001b[0m\u001b[0m\n\u001b[1;32m     41\u001b[0m \u001b[0mresults_links\u001b[0m \u001b[0;34m=\u001b[0m  \u001b[0;34m{\u001b[0m\u001b[0;34m\"links\"\u001b[0m\u001b[0;34m:\u001b[0m \u001b[0mdune\u001b[0m\u001b[0;34m.\u001b[0m\u001b[0mrefresh\u001b[0m\u001b[0;34m(\u001b[0m\u001b[0mquery_links\u001b[0m\u001b[0;34m)\u001b[0m\u001b[0;34m.\u001b[0m\u001b[0mresult\u001b[0m\u001b[0;34m.\u001b[0m\u001b[0mrows\u001b[0m\u001b[0;34m}\u001b[0m\u001b[0;34m\u001b[0m\u001b[0;34m\u001b[0m\u001b[0m\n\u001b[0;32m---> 42\u001b[0;31m \u001b[0;36m0\u001b[0m\u001b[0;34m/\u001b[0m\u001b[0;36m0\u001b[0m\u001b[0;34m\u001b[0m\u001b[0;34m\u001b[0m\u001b[0m\n\u001b[0m\u001b[1;32m     43\u001b[0m \u001b[0mparsed\u001b[0m \u001b[0;34m=\u001b[0m \u001b[0mresults_nodes\u001b[0m\u001b[0;34m.\u001b[0m\u001b[0mcopy\u001b[0m\u001b[0;34m(\u001b[0m\u001b[0;34m)\u001b[0m\u001b[0;34m\u001b[0m\u001b[0;34m\u001b[0m\u001b[0m\n\u001b[1;32m     44\u001b[0m \u001b[0mparsed\u001b[0m\u001b[0;34m.\u001b[0m\u001b[0mupdate\u001b[0m\u001b[0;34m(\u001b[0m\u001b[0mresults_links\u001b[0m\u001b[0;34m)\u001b[0m\u001b[0;34m\u001b[0m\u001b[0;34m\u001b[0m\u001b[0m\n",
      "\u001b[0;31mZeroDivisionError\u001b[0m: division by zero"
     ]
    }
   ],
   "source": [
    "import dotenv\n",
    "import os\n",
    "import json\n",
    "\n",
    "from dune_client.types import QueryParameter\n",
    "from dune_client.client import DuneClient\n",
    "from dune_client.query import Query\n",
    "\n",
    "blockchain = \"bnb\"\n",
    "address = \"0x0d8ce2a99bb6e3b7db580ed848240e4a0f9ae153\"\n",
    "start_date = \"2021-06-01 00:00:00\"\n",
    "end_date = \"2021-06-25 21:08:00\"\n",
    "\n",
    "query_nodes = Query(\n",
    "    name=\"Query Nodes\",\n",
    "    query_id=1302730,\n",
    "    params=[\n",
    "            QueryParameter.enum_type(name=\"Blockchain\", value=blockchain),\n",
    "            QueryParameter.text_type(name=\"Address\", value=address),\n",
    "            QueryParameter.date_type(name=\"Start Date\", value=start_date),\n",
    "            QueryParameter.date_type(name=\"End Date\", value=end_date)\n",
    "    ]\n",
    ")\n",
    "\n",
    "query_links = Query(\n",
    "    name=\"Query Links\",\n",
    "    query_id=1304311,\n",
    "    params=[\n",
    "            QueryParameter.enum_type(name=\"Blockchain\", value=blockchain),\n",
    "            QueryParameter.text_type(name=\"Address\", value=address),\n",
    "            QueryParameter.date_type(name=\"Start Date\", value=start_date),\n",
    "            QueryParameter.date_type(name=\"End Date\", value=end_date)\n",
    "    ]\n",
    ")\n",
    "\n",
    "print(\"Results available at\", query_nodes.url(), query_links.url())\n",
    "\n",
    "dotenv.load_dotenv()\n",
    "dune = DuneClient(os.environ[\"DUNE_API_KEY\"])\n",
    "results_nodes = {\"nodes\": dune.refresh(query_nodes).result.rows} \n",
    "results_links =  {\"links\": dune.refresh(query_links).result.rows} \n",
    "\n",
    "parsed = {**results_nodes, **results_links}\n",
    "with open('example/datasets/blockchain_data.json', 'w') as f:\n",
    "    json.dump(result, f)"
   ]
  },
  {
   "cell_type": "code",
   "execution_count": 22,
   "id": "9788045d",
   "metadata": {},
   "outputs": [],
   "source": [
    "with open('example/datasets/blockchain_data.json', 'w') as f:\n",
    "    json.dump(result, f)"
   ]
  },
  {
   "cell_type": "code",
   "execution_count": 15,
   "id": "45224c54",
   "metadata": {},
   "outputs": [
    {
     "ename": "AttributeError",
     "evalue": "'dict' object has no attribute 'extend'",
     "output_type": "error",
     "traceback": [
      "\u001b[0;31m---------------------------------------------------------------------------\u001b[0m",
      "\u001b[0;31mAttributeError\u001b[0m                            Traceback (most recent call last)",
      "\u001b[0;32m/var/folders/gc/mxy66k3s48lfzy9kzt5xh8t80000gn/T/ipykernel_8795/2168959166.py\u001b[0m in \u001b[0;36m<module>\u001b[0;34m\u001b[0m\n\u001b[1;32m      1\u001b[0m \u001b[0mresult\u001b[0m \u001b[0;34m=\u001b[0m \u001b[0mresults_nodes\u001b[0m\u001b[0;34m.\u001b[0m\u001b[0mcopy\u001b[0m\u001b[0;34m(\u001b[0m\u001b[0;34m)\u001b[0m\u001b[0;34m\u001b[0m\u001b[0;34m\u001b[0m\u001b[0m\n\u001b[0;32m----> 2\u001b[0;31m \u001b[0mresult\u001b[0m\u001b[0;34m.\u001b[0m\u001b[0mextend\u001b[0m\u001b[0;34m(\u001b[0m\u001b[0mresults_links\u001b[0m\u001b[0;34m)\u001b[0m\u001b[0;34m\u001b[0m\u001b[0;34m\u001b[0m\u001b[0m\n\u001b[0m",
      "\u001b[0;31mAttributeError\u001b[0m: 'dict' object has no attribute 'extend'"
     ]
    }
   ],
   "source": [
    "result = results_nodes.copy()\n",
    "result.extend(results_links)"
   ]
  }
 ],
 "metadata": {
  "kernelspec": {
   "display_name": "Python 3 (ipykernel)",
   "language": "python",
   "name": "python3"
  },
  "language_info": {
   "codemirror_mode": {
    "name": "ipython",
    "version": 3
   },
   "file_extension": ".py",
   "mimetype": "text/x-python",
   "name": "python",
   "nbconvert_exporter": "python",
   "pygments_lexer": "ipython3",
   "version": "3.8.12"
  }
 },
 "nbformat": 4,
 "nbformat_minor": 5
}
