{
 "cells": [
  {
   "cell_type": "code",
   "execution_count": 4,
   "metadata": {
    "scrolled": true
   },
   "outputs": [
    {
     "name": "stdout",
     "output_type": "stream",
     "text": [
      "Results available at https://dune.com/queries/1302730?Blockchain=bnb&Address=0x0d8ce2a99bb6e3b7db580ed848240e4a0f9ae153&Start+Date=2021-06-01+00%3A00%3A00&End+Date=2021-06-25+21%3A08%3A00 https://dune.com/queries/1304311?Blockchain=bnb&Address=0x0d8ce2a99bb6e3b7db580ed848240e4a0f9ae153&Start+Date=2021-06-01+00%3A00%3A00&End+Date=2021-06-25+21%3A08%3A00\n"
     ]
    },
    {
     "name": "stderr",
     "output_type": "stream",
     "text": [
      "2022-11-24 21:45:12,304 INFO dune_client.client waiting for query execution 01GJNP6923A884EZAEWAQE7WFM to complete: current state ExecutionState.EXECUTING\n",
      "2022-11-24 21:45:17,453 INFO dune_client.client waiting for query execution 01GJNP6923A884EZAEWAQE7WFM to complete: current state ExecutionState.EXECUTING\n",
      "2022-11-24 21:45:22,597 INFO dune_client.client waiting for query execution 01GJNP6923A884EZAEWAQE7WFM to complete: current state ExecutionState.EXECUTING\n",
      "2022-11-24 21:45:27,766 INFO dune_client.client waiting for query execution 01GJNP6923A884EZAEWAQE7WFM to complete: current state ExecutionState.EXECUTING\n",
      "2022-11-24 21:45:32,922 INFO dune_client.client waiting for query execution 01GJNP6923A884EZAEWAQE7WFM to complete: current state ExecutionState.EXECUTING\n",
      "2022-11-24 21:45:38,076 INFO dune_client.client waiting for query execution 01GJNP6923A884EZAEWAQE7WFM to complete: current state ExecutionState.EXECUTING\n",
      "2022-11-24 21:45:43,223 INFO dune_client.client waiting for query execution 01GJNP6923A884EZAEWAQE7WFM to complete: current state ExecutionState.EXECUTING\n",
      "2022-11-24 21:45:48,364 INFO dune_client.client waiting for query execution 01GJNP6923A884EZAEWAQE7WFM to complete: current state ExecutionState.EXECUTING\n",
      "2022-11-24 21:45:53,519 INFO dune_client.client waiting for query execution 01GJNP6923A884EZAEWAQE7WFM to complete: current state ExecutionState.EXECUTING\n",
      "2022-11-24 21:45:58,660 INFO dune_client.client waiting for query execution 01GJNP6923A884EZAEWAQE7WFM to complete: current state ExecutionState.EXECUTING\n",
      "2022-11-24 21:46:03,810 INFO dune_client.client waiting for query execution 01GJNP6923A884EZAEWAQE7WFM to complete: current state ExecutionState.EXECUTING\n",
      "2022-11-24 21:46:08,940 INFO dune_client.client waiting for query execution 01GJNP6923A884EZAEWAQE7WFM to complete: current state ExecutionState.EXECUTING\n",
      "2022-11-24 21:46:14,087 INFO dune_client.client waiting for query execution 01GJNP6923A884EZAEWAQE7WFM to complete: current state ExecutionState.EXECUTING\n",
      "2022-11-24 21:46:19,218 INFO dune_client.client waiting for query execution 01GJNP6923A884EZAEWAQE7WFM to complete: current state ExecutionState.EXECUTING\n",
      "2022-11-24 21:46:24,357 INFO dune_client.client waiting for query execution 01GJNP6923A884EZAEWAQE7WFM to complete: current state ExecutionState.EXECUTING\n",
      "2022-11-24 21:46:29,528 INFO dune_client.client waiting for query execution 01GJNP6923A884EZAEWAQE7WFM to complete: current state ExecutionState.EXECUTING\n",
      "2022-11-24 21:46:34,666 INFO dune_client.client waiting for query execution 01GJNP6923A884EZAEWAQE7WFM to complete: current state ExecutionState.EXECUTING\n",
      "2022-11-24 21:46:39,794 INFO dune_client.client waiting for query execution 01GJNP6923A884EZAEWAQE7WFM to complete: current state ExecutionState.EXECUTING\n",
      "2022-11-24 21:46:44,938 INFO dune_client.client waiting for query execution 01GJNP6923A884EZAEWAQE7WFM to complete: current state ExecutionState.EXECUTING\n",
      "2022-11-24 21:46:50,088 INFO dune_client.client waiting for query execution 01GJNP6923A884EZAEWAQE7WFM to complete: current state ExecutionState.EXECUTING\n",
      "2022-11-24 21:46:55,236 INFO dune_client.client waiting for query execution 01GJNP6923A884EZAEWAQE7WFM to complete: current state ExecutionState.EXECUTING\n",
      "2022-11-24 21:47:00,418 INFO dune_client.client waiting for query execution 01GJNP6923A884EZAEWAQE7WFM to complete: current state ExecutionState.EXECUTING\n",
      "2022-11-24 21:47:05,568 INFO dune_client.client waiting for query execution 01GJNP6923A884EZAEWAQE7WFM to complete: current state ExecutionState.EXECUTING\n",
      "2022-11-24 21:47:10,719 INFO dune_client.client waiting for query execution 01GJNP6923A884EZAEWAQE7WFM to complete: current state ExecutionState.EXECUTING\n",
      "2022-11-24 21:47:15,861 INFO dune_client.client waiting for query execution 01GJNP6923A884EZAEWAQE7WFM to complete: current state ExecutionState.EXECUTING\n",
      "2022-11-24 21:47:20,996 INFO dune_client.client waiting for query execution 01GJNP6923A884EZAEWAQE7WFM to complete: current state ExecutionState.EXECUTING\n",
      "2022-11-24 21:47:26,132 INFO dune_client.client waiting for query execution 01GJNP6923A884EZAEWAQE7WFM to complete: current state ExecutionState.EXECUTING\n",
      "2022-11-24 21:47:31,855 INFO dune_client.client waiting for query execution 01GJNPAHA1X2959EVGY88QZS4T to complete: current state ExecutionState.EXECUTING\n",
      "2022-11-24 21:47:36,997 INFO dune_client.client waiting for query execution 01GJNPAHA1X2959EVGY88QZS4T to complete: current state ExecutionState.EXECUTING\n",
      "2022-11-24 21:47:42,136 INFO dune_client.client waiting for query execution 01GJNPAHA1X2959EVGY88QZS4T to complete: current state ExecutionState.EXECUTING\n",
      "2022-11-24 21:47:47,327 INFO dune_client.client waiting for query execution 01GJNPAHA1X2959EVGY88QZS4T to complete: current state ExecutionState.EXECUTING\n",
      "2022-11-24 21:47:52,464 INFO dune_client.client waiting for query execution 01GJNPAHA1X2959EVGY88QZS4T to complete: current state ExecutionState.EXECUTING\n",
      "2022-11-24 21:47:57,604 INFO dune_client.client waiting for query execution 01GJNPAHA1X2959EVGY88QZS4T to complete: current state ExecutionState.EXECUTING\n",
      "2022-11-24 21:48:02,754 INFO dune_client.client waiting for query execution 01GJNPAHA1X2959EVGY88QZS4T to complete: current state ExecutionState.EXECUTING\n",
      "2022-11-24 21:48:07,903 INFO dune_client.client waiting for query execution 01GJNPAHA1X2959EVGY88QZS4T to complete: current state ExecutionState.EXECUTING\n",
      "2022-11-24 21:48:13,074 INFO dune_client.client waiting for query execution 01GJNPAHA1X2959EVGY88QZS4T to complete: current state ExecutionState.EXECUTING\n",
      "2022-11-24 21:48:18,221 INFO dune_client.client waiting for query execution 01GJNPAHA1X2959EVGY88QZS4T to complete: current state ExecutionState.EXECUTING\n"
     ]
    }
   ],
   "source": [
    "import dotenv\n",
    "import os\n",
    "import json\n",
    "\n",
    "from dune_client.types import QueryParameter\n",
    "from dune_client.client import DuneClient\n",
    "from dune_client.query import Query\n",
    "\n",
    "blockchain = \"bnb\"\n",
    "address = \"0x0d8ce2a99bb6e3b7db580ed848240e4a0f9ae153\"\n",
    "start_date = \"2021-06-01 00:00:00\"\n",
    "end_date = \"2021-06-25 21:08:00\"\n",
    "\n",
    "query_nodes = Query(\n",
    "    name=\"Query Nodes\",\n",
    "    query_id=1302730,\n",
    "    params=[\n",
    "            QueryParameter.enum_type(name=\"Blockchain\", value=blockchain),\n",
    "            QueryParameter.text_type(name=\"Address\", value=address),\n",
    "            QueryParameter.date_type(name=\"Start Date\", value=start_date),\n",
    "            QueryParameter.date_type(name=\"End Date\", value=end_date)\n",
    "    ]\n",
    ")\n",
    "\n",
    "query_links = Query(\n",
    "    name=\"Query Links\",\n",
    "    query_id=1304311,\n",
    "    params=[\n",
    "            QueryParameter.enum_type(name=\"Blockchain\", value=blockchain),\n",
    "            QueryParameter.text_type(name=\"Address\", value=address),\n",
    "            QueryParameter.date_type(name=\"Start Date\", value=start_date),\n",
    "            QueryParameter.date_type(name=\"End Date\", value=end_date)\n",
    "    ]\n",
    ")\n",
    "\n",
    "print(\"Results available at\", query_nodes.url(), query_links.url())\n",
    "\n",
    "dotenv.load_dotenv()\n",
    "dune = DuneClient(os.environ[\"DUNE_API_KEY\"])\n",
    "results_nodes = dune.refresh(query_nodes)\n",
    "results_links = dune.refresh(query_links)\n",
    "parsed = results_nodes.copy()\n",
    "parsed.update(results_links)\n",
    "dune.save(parsed)"
   ]
  }
 ],
 "metadata": {
  "kernelspec": {
   "display_name": "Python 3 (ipykernel)",
   "language": "python",
   "name": "python3"
  },
  "language_info": {
   "codemirror_mode": {
    "name": "ipython",
    "version": 3
   },
   "file_extension": ".py",
   "mimetype": "text/x-python",
   "name": "python",
   "nbconvert_exporter": "python",
   "pygments_lexer": "ipython3",
   "version": "3.8.12"
  },
  "vscode": {
   "interpreter": {
    "hash": "b5d77bacb19008162c207be4e4a6747a498bc9daca7dfb6bba06949f611bd912"
   }
  }
 },
 "nbformat": 4,
 "nbformat_minor": 2
}
